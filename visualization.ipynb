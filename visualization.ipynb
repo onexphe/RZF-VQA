{
 "cells": [
  {
   "cell_type": "code",
   "execution_count": 4,
   "id": "c48f0fe4",
   "metadata": {
    "ExecuteTime": {
     "end_time": "2022-03-08T09:22:58.314848Z",
     "start_time": "2022-03-08T09:22:49.835966Z"
    }
   },
   "outputs": [
    {
     "name": "stdout",
     "output_type": "stream",
     "text": [
      "Collecting jupyter-tensorboard\n",
      "  Downloading jupyter_tensorboard-0.2.0.tar.gz (15 kB)\n",
      "Requirement already satisfied: notebook>=5.0 in /root/anaconda3/envs/ZS-F-VQA/lib/python3.7/site-packages (from jupyter-tensorboard) (6.4.3)\n",
      "Requirement already satisfied: ipykernel in /root/anaconda3/envs/ZS-F-VQA/lib/python3.7/site-packages (from notebook>=5.0->jupyter-tensorboard) (6.2.0)\n",
      "Requirement already satisfied: pyzmq>=17 in /root/anaconda3/envs/ZS-F-VQA/lib/python3.7/site-packages (from notebook>=5.0->jupyter-tensorboard) (22.2.1)\n",
      "Requirement already satisfied: Send2Trash>=1.5.0 in /root/anaconda3/envs/ZS-F-VQA/lib/python3.7/site-packages (from notebook>=5.0->jupyter-tensorboard) (1.5.0)\n",
      "Requirement already satisfied: jupyter-client>=5.3.4 in /root/anaconda3/envs/ZS-F-VQA/lib/python3.7/site-packages (from notebook>=5.0->jupyter-tensorboard) (7.0.1)\n",
      "Requirement already satisfied: argon2-cffi in /root/anaconda3/envs/ZS-F-VQA/lib/python3.7/site-packages (from notebook>=5.0->jupyter-tensorboard) (20.1.0)\n",
      "Requirement already satisfied: nbconvert in /root/anaconda3/envs/ZS-F-VQA/lib/python3.7/site-packages (from notebook>=5.0->jupyter-tensorboard) (5.6.1)\n",
      "Requirement already satisfied: traitlets>=4.2.1 in /root/anaconda3/envs/ZS-F-VQA/lib/python3.7/site-packages (from notebook>=5.0->jupyter-tensorboard) (5.0.5)\n",
      "Requirement already satisfied: jupyter-core>=4.6.1 in /root/anaconda3/envs/ZS-F-VQA/lib/python3.7/site-packages (from notebook>=5.0->jupyter-tensorboard) (4.7.1)\n",
      "Requirement already satisfied: tornado>=6.1 in /root/anaconda3/envs/ZS-F-VQA/lib/python3.7/site-packages (from notebook>=5.0->jupyter-tensorboard) (6.1)\n",
      "Requirement already satisfied: ipython-genutils in /root/anaconda3/envs/ZS-F-VQA/lib/python3.7/site-packages (from notebook>=5.0->jupyter-tensorboard) (0.2.0)\n",
      "Requirement already satisfied: nbformat in /root/anaconda3/envs/ZS-F-VQA/lib/python3.7/site-packages (from notebook>=5.0->jupyter-tensorboard) (5.1.3)\n",
      "Requirement already satisfied: jinja2 in /root/anaconda3/envs/ZS-F-VQA/lib/python3.7/site-packages (from notebook>=5.0->jupyter-tensorboard) (3.0.1)\n",
      "Requirement already satisfied: terminado>=0.8.3 in /root/anaconda3/envs/ZS-F-VQA/lib/python3.7/site-packages (from notebook>=5.0->jupyter-tensorboard) (0.9.4)\n",
      "Requirement already satisfied: prometheus-client in /root/anaconda3/envs/ZS-F-VQA/lib/python3.7/site-packages (from notebook>=5.0->jupyter-tensorboard) (0.11.0)\n",
      "Requirement already satisfied: python-dateutil>=2.1 in /root/anaconda3/envs/ZS-F-VQA/lib/python3.7/site-packages (from jupyter-client>=5.3.4->notebook>=5.0->jupyter-tensorboard) (2.8.2)\n",
      "Requirement already satisfied: entrypoints in /root/anaconda3/envs/ZS-F-VQA/lib/python3.7/site-packages (from jupyter-client>=5.3.4->notebook>=5.0->jupyter-tensorboard) (0.3)\n",
      "Requirement already satisfied: nest-asyncio>=1.5 in /root/anaconda3/envs/ZS-F-VQA/lib/python3.7/site-packages (from jupyter-client>=5.3.4->notebook>=5.0->jupyter-tensorboard) (1.5.1)\n",
      "Requirement already satisfied: six>=1.5 in /root/anaconda3/envs/ZS-F-VQA/lib/python3.7/site-packages (from python-dateutil>=2.1->jupyter-client>=5.3.4->notebook>=5.0->jupyter-tensorboard) (1.16.0)\n",
      "Requirement already satisfied: ptyprocess in /root/anaconda3/envs/ZS-F-VQA/lib/python3.7/site-packages (from terminado>=0.8.3->notebook>=5.0->jupyter-tensorboard) (0.7.0)\n",
      "Requirement already satisfied: cffi>=1.0.0 in /root/anaconda3/envs/ZS-F-VQA/lib/python3.7/site-packages (from argon2-cffi->notebook>=5.0->jupyter-tensorboard) (1.14.6)\n",
      "Requirement already satisfied: pycparser in /root/anaconda3/envs/ZS-F-VQA/lib/python3.7/site-packages (from cffi>=1.0.0->argon2-cffi->notebook>=5.0->jupyter-tensorboard) (2.20)\n",
      "Requirement already satisfied: ipython<8.0,>=7.23.1 in /root/anaconda3/envs/ZS-F-VQA/lib/python3.7/site-packages (from ipykernel->notebook>=5.0->jupyter-tensorboard) (7.27.0)\n",
      "Requirement already satisfied: argcomplete>=1.12.3 in /root/anaconda3/envs/ZS-F-VQA/lib/python3.7/site-packages (from ipykernel->notebook>=5.0->jupyter-tensorboard) (1.12.3)\n",
      "Requirement already satisfied: importlib-metadata<5 in /root/anaconda3/envs/ZS-F-VQA/lib/python3.7/site-packages (from ipykernel->notebook>=5.0->jupyter-tensorboard) (4.8.1)\n",
      "Requirement already satisfied: matplotlib-inline<0.2.0,>=0.1.0 in /root/anaconda3/envs/ZS-F-VQA/lib/python3.7/site-packages (from ipykernel->notebook>=5.0->jupyter-tensorboard) (0.1.2)\n",
      "Requirement already satisfied: debugpy<2.0,>=1.0.0 in /root/anaconda3/envs/ZS-F-VQA/lib/python3.7/site-packages (from ipykernel->notebook>=5.0->jupyter-tensorboard) (1.4.1)\n",
      "Requirement already satisfied: typing-extensions>=3.6.4 in /root/anaconda3/envs/ZS-F-VQA/lib/python3.7/site-packages (from importlib-metadata<5->ipykernel->notebook>=5.0->jupyter-tensorboard) (3.10.0.2)\n",
      "Requirement already satisfied: zipp>=0.5 in /root/anaconda3/envs/ZS-F-VQA/lib/python3.7/site-packages (from importlib-metadata<5->ipykernel->notebook>=5.0->jupyter-tensorboard) (3.5.0)\n",
      "Requirement already satisfied: jedi>=0.16 in /root/anaconda3/envs/ZS-F-VQA/lib/python3.7/site-packages (from ipython<8.0,>=7.23.1->ipykernel->notebook>=5.0->jupyter-tensorboard) (0.18.0)\n",
      "Requirement already satisfied: setuptools>=18.5 in /root/anaconda3/envs/ZS-F-VQA/lib/python3.7/site-packages (from ipython<8.0,>=7.23.1->ipykernel->notebook>=5.0->jupyter-tensorboard) (58.0.4)\n",
      "Requirement already satisfied: prompt-toolkit!=3.0.0,!=3.0.1,<3.1.0,>=2.0.0 in /root/anaconda3/envs/ZS-F-VQA/lib/python3.7/site-packages (from ipython<8.0,>=7.23.1->ipykernel->notebook>=5.0->jupyter-tensorboard) (3.0.17)\n",
      "Requirement already satisfied: pickleshare in /root/anaconda3/envs/ZS-F-VQA/lib/python3.7/site-packages (from ipython<8.0,>=7.23.1->ipykernel->notebook>=5.0->jupyter-tensorboard) (0.7.5)\n",
      "Requirement already satisfied: pygments in /root/anaconda3/envs/ZS-F-VQA/lib/python3.7/site-packages (from ipython<8.0,>=7.23.1->ipykernel->notebook>=5.0->jupyter-tensorboard) (2.10.0)\n",
      "Requirement already satisfied: decorator in /root/anaconda3/envs/ZS-F-VQA/lib/python3.7/site-packages (from ipython<8.0,>=7.23.1->ipykernel->notebook>=5.0->jupyter-tensorboard) (5.0.9)\n",
      "Requirement already satisfied: backcall in /root/anaconda3/envs/ZS-F-VQA/lib/python3.7/site-packages (from ipython<8.0,>=7.23.1->ipykernel->notebook>=5.0->jupyter-tensorboard) (0.2.0)\n",
      "Requirement already satisfied: pexpect>4.3 in /root/anaconda3/envs/ZS-F-VQA/lib/python3.7/site-packages (from ipython<8.0,>=7.23.1->ipykernel->notebook>=5.0->jupyter-tensorboard) (4.8.0)\n",
      "Requirement already satisfied: parso<0.9.0,>=0.8.0 in /root/anaconda3/envs/ZS-F-VQA/lib/python3.7/site-packages (from jedi>=0.16->ipython<8.0,>=7.23.1->ipykernel->notebook>=5.0->jupyter-tensorboard) (0.8.2)\n",
      "Requirement already satisfied: wcwidth in /root/anaconda3/envs/ZS-F-VQA/lib/python3.7/site-packages (from prompt-toolkit!=3.0.0,!=3.0.1,<3.1.0,>=2.0.0->ipython<8.0,>=7.23.1->ipykernel->notebook>=5.0->jupyter-tensorboard) (0.2.5)\n",
      "Requirement already satisfied: MarkupSafe>=2.0 in /root/anaconda3/envs/ZS-F-VQA/lib/python3.7/site-packages (from jinja2->notebook>=5.0->jupyter-tensorboard) (2.0.1)\n",
      "Requirement already satisfied: testpath in /root/anaconda3/envs/ZS-F-VQA/lib/python3.7/site-packages (from nbconvert->notebook>=5.0->jupyter-tensorboard) (0.5.0)\n",
      "Requirement already satisfied: defusedxml in /root/anaconda3/envs/ZS-F-VQA/lib/python3.7/site-packages (from nbconvert->notebook>=5.0->jupyter-tensorboard) (0.7.1)\n",
      "Requirement already satisfied: pandocfilters>=1.4.1 in /root/anaconda3/envs/ZS-F-VQA/lib/python3.7/site-packages (from nbconvert->notebook>=5.0->jupyter-tensorboard) (1.4.3)\n",
      "Requirement already satisfied: bleach in /root/anaconda3/envs/ZS-F-VQA/lib/python3.7/site-packages (from nbconvert->notebook>=5.0->jupyter-tensorboard) (4.0.0)\n",
      "Requirement already satisfied: mistune<2,>=0.8.1 in /root/anaconda3/envs/ZS-F-VQA/lib/python3.7/site-packages (from nbconvert->notebook>=5.0->jupyter-tensorboard) (0.8.4)\n",
      "Requirement already satisfied: jsonschema!=2.5.0,>=2.4 in /root/anaconda3/envs/ZS-F-VQA/lib/python3.7/site-packages (from nbformat->notebook>=5.0->jupyter-tensorboard) (3.2.0)\n",
      "Requirement already satisfied: attrs>=17.4.0 in /root/anaconda3/envs/ZS-F-VQA/lib/python3.7/site-packages (from jsonschema!=2.5.0,>=2.4->nbformat->notebook>=5.0->jupyter-tensorboard) (21.2.0)\n",
      "Requirement already satisfied: pyrsistent>=0.14.0 in /root/anaconda3/envs/ZS-F-VQA/lib/python3.7/site-packages (from jsonschema!=2.5.0,>=2.4->nbformat->notebook>=5.0->jupyter-tensorboard) (0.17.3)\n"
     ]
    },
    {
     "name": "stdout",
     "output_type": "stream",
     "text": [
      "Requirement already satisfied: webencodings in /root/anaconda3/envs/ZS-F-VQA/lib/python3.7/site-packages (from bleach->nbconvert->notebook>=5.0->jupyter-tensorboard) (0.5.1)\n",
      "Requirement already satisfied: packaging in /root/anaconda3/envs/ZS-F-VQA/lib/python3.7/site-packages (from bleach->nbconvert->notebook>=5.0->jupyter-tensorboard) (21.0)\n",
      "Requirement already satisfied: pyparsing>=2.0.2 in /root/anaconda3/envs/ZS-F-VQA/lib/python3.7/site-packages (from packaging->bleach->nbconvert->notebook>=5.0->jupyter-tensorboard) (2.4.7)\n",
      "Building wheels for collected packages: jupyter-tensorboard\n",
      "  Building wheel for jupyter-tensorboard (setup.py) ... \u001b[?25ldone\n",
      "\u001b[?25h  Created wheel for jupyter-tensorboard: filename=jupyter_tensorboard-0.2.0-py2.py3-none-any.whl size=15258 sha256=eec29e3f8293085a251fcd9d268a0f17bb33583dd7be320e6168743cb304a0ea\n",
      "  Stored in directory: /root/.cache/pip/wheels/59/14/ab/6d0bce449039ebdcbf45c1aff8c19153a68bf3f0492a32620e\n",
      "Successfully built jupyter-tensorboard\n",
      "Installing collected packages: jupyter-tensorboard\n",
      "Successfully installed jupyter-tensorboard-0.2.0\n",
      "\u001b[33mWARNING: Running pip as the 'root' user can result in broken permissions and conflicting behaviour with the system package manager. It is recommended to use a virtual environment instead: https://pip.pypa.io/warnings/venv\u001b[0m\n",
      "Note: you may need to restart the kernel to use updated packages.\n"
     ]
    }
   ],
   "source": [
    "pip install jupyter-tensorboard"
   ]
  },
  {
   "cell_type": "code",
   "execution_count": 1,
   "id": "4b94d986",
   "metadata": {
    "ExecuteTime": {
     "end_time": "2022-07-15T09:16:51.815828Z",
     "start_time": "2022-07-15T09:16:46.483921Z"
    },
    "scrolled": true
   },
   "outputs": [
    {
     "name": "stdout",
     "output_type": "stream",
     "text": [
      "2022-07-15 17:16:47.823329: W tensorflow/stream_executor/platform/default/dso_loader.cc:64] Could not load dynamic library 'libcudart.so.11.0'; dlerror: libcudart.so.11.0: cannot open shared object file: No such file or directory\n",
      "2022-07-15 17:16:47.823384: I tensorflow/stream_executor/cuda/cudart_stub.cc:29] Ignore above cudart dlerror if you do not have a GPU set up on your machine.\n",
      "2022-07-15 17:16:50.176336: W tensorflow/stream_executor/platform/default/dso_loader.cc:64] Could not load dynamic library 'libcudart.so.11.0'; dlerror: libcudart.so.11.0: cannot open shared object file: No such file or directory\n",
      "2022-07-15 17:16:50.176463: W tensorflow/stream_executor/platform/default/dso_loader.cc:64] Could not load dynamic library 'libcublas.so.11'; dlerror: libcublas.so.11: cannot open shared object file: No such file or directory\n",
      "2022-07-15 17:16:50.176552: W tensorflow/stream_executor/platform/default/dso_loader.cc:64] Could not load dynamic library 'libcublasLt.so.11'; dlerror: libcublasLt.so.11: cannot open shared object file: No such file or directory\n",
      "2022-07-15 17:16:50.176637: W tensorflow/stream_executor/platform/default/dso_loader.cc:64] Could not load dynamic library 'libcufft.so.10'; dlerror: libcufft.so.10: cannot open shared object file: No such file or directory\n",
      "2022-07-15 17:16:50.176720: W tensorflow/stream_executor/platform/default/dso_loader.cc:64] Could not load dynamic library 'libcurand.so.10'; dlerror: libcurand.so.10: cannot open shared object file: No such file or directory\n",
      "2022-07-15 17:16:50.176802: W tensorflow/stream_executor/platform/default/dso_loader.cc:64] Could not load dynamic library 'libcusolver.so.11'; dlerror: libcusolver.so.11: cannot open shared object file: No such file or directory\n",
      "2022-07-15 17:16:50.176884: W tensorflow/stream_executor/platform/default/dso_loader.cc:64] Could not load dynamic library 'libcusparse.so.11'; dlerror: libcusparse.so.11: cannot open shared object file: No such file or directory\n",
      "2022-07-15 17:16:50.176969: W tensorflow/stream_executor/platform/default/dso_loader.cc:64] Could not load dynamic library 'libcudnn.so.8'; dlerror: libcudnn.so.8: cannot open shared object file: No such file or directory\n",
      "2022-07-15 17:16:50.176991: W tensorflow/core/common_runtime/gpu/gpu_device.cc:1850] Cannot dlopen some GPU libraries. Please make sure the missing libraries mentioned above are installed properly if you would like to use GPU. Follow the guide at https://www.tensorflow.org/install/gpu for how to download and setup the required libraries for your platform.\n",
      "Skipping registering GPU devices...\n",
      "\n",
      "NOTE: Using experimental fast data loading logic. To disable, pass\n",
      "    \"--load_fast=false\" and report issues on GitHub. More details:\n",
      "    https://github.com/tensorflow/tensorboard/issues/4784\n",
      "\n",
      "Traceback (most recent call last):\n",
      "  File \"/root/anaconda3/envs/ZS-F-VQA/bin/tensorboard\", line 8, in <module>\n",
      "    sys.exit(run_main())\n",
      "  File \"/root/anaconda3/envs/ZS-F-VQA/lib/python3.7/site-packages/tensorboard/main.py\", line 46, in run_main\n",
      "    app.run(tensorboard.main, flags_parser=tensorboard.configure)\n",
      "  File \"/root/anaconda3/envs/ZS-F-VQA/lib/python3.7/site-packages/absl/app.py\", line 312, in run\n",
      "    _run_main(main, args)\n",
      "  File \"/root/anaconda3/envs/ZS-F-VQA/lib/python3.7/site-packages/absl/app.py\", line 258, in _run_main\n",
      "    sys.exit(main(argv))\n",
      "  File \"/root/anaconda3/envs/ZS-F-VQA/lib/python3.7/site-packages/tensorboard/program.py\", line 276, in main\n",
      "    return runner(self.flags) or 0\n",
      "  File \"/root/anaconda3/envs/ZS-F-VQA/lib/python3.7/site-packages/tensorboard/program.py\", line 292, in _run_serve_subcommand\n",
      "    server = self._make_server()\n",
      "  File \"/root/anaconda3/envs/ZS-F-VQA/lib/python3.7/site-packages/tensorboard/program.py\", line 481, in _make_server\n",
      "    deprecated_multiplexer,\n",
      "  File \"/root/anaconda3/envs/ZS-F-VQA/lib/python3.7/site-packages/tensorboard/backend/application.py\", line 145, in TensorBoardWSGIApp\n",
      "    experimental_middlewares,\n",
      "  File \"/root/anaconda3/envs/ZS-F-VQA/lib/python3.7/site-packages/tensorboard/backend/application.py\", line 253, in __init__\n",
      "    \"Duplicate plugins for name %s\" % plugin.plugin_name\n",
      "ValueError: Duplicate plugins for name projector\n"
     ]
    }
   ],
   "source": [
    "#http://202.117.43.224:3002/\n",
    "!tensorboard --logdir /ws/code/ZS-F-VQA/code/dump/0715-fact_space/bert --port 8889 --bind_all"
   ]
  },
  {
   "cell_type": "code",
   "execution_count": 4,
   "id": "290bb7c1",
   "metadata": {
    "ExecuteTime": {
     "end_time": "2022-05-27T06:50:44.198092Z",
     "start_time": "2022-05-27T06:50:37.959855Z"
    },
    "scrolled": true
   },
   "outputs": [
    {
     "name": "stdout",
     "output_type": "stream",
     "text": [
      "2022-05-27 14:50:39.456587: W tensorflow/stream_executor/platform/default/dso_loader.cc:64] Could not load dynamic library 'libcudart.so.11.0'; dlerror: libcudart.so.11.0: cannot open shared object file: No such file or directory\n",
      "2022-05-27 14:50:39.456683: I tensorflow/stream_executor/cuda/cudart_stub.cc:29] Ignore above cudart dlerror if you do not have a GPU set up on your machine.\n",
      "2022-05-27 14:50:42.724586: W tensorflow/stream_executor/platform/default/dso_loader.cc:64] Could not load dynamic library 'libcudart.so.11.0'; dlerror: libcudart.so.11.0: cannot open shared object file: No such file or directory\n",
      "2022-05-27 14:50:42.724706: W tensorflow/stream_executor/platform/default/dso_loader.cc:64] Could not load dynamic library 'libcublas.so.11'; dlerror: libcublas.so.11: cannot open shared object file: No such file or directory\n",
      "2022-05-27 14:50:42.724789: W tensorflow/stream_executor/platform/default/dso_loader.cc:64] Could not load dynamic library 'libcublasLt.so.11'; dlerror: libcublasLt.so.11: cannot open shared object file: No such file or directory\n",
      "2022-05-27 14:50:42.724872: W tensorflow/stream_executor/platform/default/dso_loader.cc:64] Could not load dynamic library 'libcufft.so.10'; dlerror: libcufft.so.10: cannot open shared object file: No such file or directory\n",
      "2022-05-27 14:50:42.724952: W tensorflow/stream_executor/platform/default/dso_loader.cc:64] Could not load dynamic library 'libcurand.so.10'; dlerror: libcurand.so.10: cannot open shared object file: No such file or directory\n",
      "2022-05-27 14:50:42.725030: W tensorflow/stream_executor/platform/default/dso_loader.cc:64] Could not load dynamic library 'libcusolver.so.11'; dlerror: libcusolver.so.11: cannot open shared object file: No such file or directory\n",
      "2022-05-27 14:50:42.725108: W tensorflow/stream_executor/platform/default/dso_loader.cc:64] Could not load dynamic library 'libcusparse.so.11'; dlerror: libcusparse.so.11: cannot open shared object file: No such file or directory\n",
      "2022-05-27 14:50:42.725189: W tensorflow/stream_executor/platform/default/dso_loader.cc:64] Could not load dynamic library 'libcudnn.so.8'; dlerror: libcudnn.so.8: cannot open shared object file: No such file or directory\n",
      "2022-05-27 14:50:42.725211: W tensorflow/core/common_runtime/gpu/gpu_device.cc:1850] Cannot dlopen some GPU libraries. Please make sure the missing libraries mentioned above are installed properly if you would like to use GPU. Follow the guide at https://www.tensorflow.org/install/gpu for how to download and setup the required libraries for your platform.\n",
      "Skipping registering GPU devices...\n",
      "\n",
      "NOTE: Using experimental fast data loading logic. To disable, pass\n",
      "    \"--load_fast=false\" and report issues on GitHub. More details:\n",
      "    https://github.com/tensorflow/tensorboard/issues/4784\n",
      "\n",
      "Traceback (most recent call last):\n",
      "  File \"/root/anaconda3/envs/ZS-F-VQA/bin/tensorboard\", line 8, in <module>\n",
      "    sys.exit(run_main())\n",
      "  File \"/root/anaconda3/envs/ZS-F-VQA/lib/python3.7/site-packages/tensorboard/main.py\", line 46, in run_main\n",
      "    app.run(tensorboard.main, flags_parser=tensorboard.configure)\n",
      "  File \"/root/anaconda3/envs/ZS-F-VQA/lib/python3.7/site-packages/absl/app.py\", line 312, in run\n",
      "    _run_main(main, args)\n",
      "  File \"/root/anaconda3/envs/ZS-F-VQA/lib/python3.7/site-packages/absl/app.py\", line 258, in _run_main\n",
      "    sys.exit(main(argv))\n",
      "  File \"/root/anaconda3/envs/ZS-F-VQA/lib/python3.7/site-packages/tensorboard/program.py\", line 276, in main\n",
      "    return runner(self.flags) or 0\n",
      "  File \"/root/anaconda3/envs/ZS-F-VQA/lib/python3.7/site-packages/tensorboard/program.py\", line 292, in _run_serve_subcommand\n",
      "    server = self._make_server()\n",
      "  File \"/root/anaconda3/envs/ZS-F-VQA/lib/python3.7/site-packages/tensorboard/program.py\", line 481, in _make_server\n",
      "    deprecated_multiplexer,\n",
      "  File \"/root/anaconda3/envs/ZS-F-VQA/lib/python3.7/site-packages/tensorboard/backend/application.py\", line 145, in TensorBoardWSGIApp\n",
      "    experimental_middlewares,\n",
      "  File \"/root/anaconda3/envs/ZS-F-VQA/lib/python3.7/site-packages/tensorboard/backend/application.py\", line 253, in __init__\n",
      "    \"Duplicate plugins for name %s\" % plugin.plugin_name\n",
      "ValueError: Duplicate plugins for name projector\n"
     ]
    }
   ],
   "source": [
    "#http://202.117.43.224:3002/\n",
    "!tensorboard --logdir /ws/code/ZS-F-VQA/code/dump/0422-fact_space/Lxmert --port 8889 --bind_all"
   ]
  }
 ],
 "metadata": {
  "kernelspec": {
   "display_name": "Python [conda env:ZS-F-VQA] *",
   "language": "python",
   "name": "conda-env-ZS-F-VQA-py"
  },
  "language_info": {
   "codemirror_mode": {
    "name": "ipython",
    "version": 3
   },
   "file_extension": ".py",
   "mimetype": "text/x-python",
   "name": "python",
   "nbconvert_exporter": "python",
   "pygments_lexer": "ipython3",
   "version": "3.7.11"
  },
  "varInspector": {
   "cols": {
    "lenName": 16,
    "lenType": 16,
    "lenVar": 40
   },
   "kernels_config": {
    "python": {
     "delete_cmd_postfix": "",
     "delete_cmd_prefix": "del ",
     "library": "var_list.py",
     "varRefreshCmd": "print(var_dic_list())"
    },
    "r": {
     "delete_cmd_postfix": ") ",
     "delete_cmd_prefix": "rm(",
     "library": "var_list.r",
     "varRefreshCmd": "cat(var_dic_list()) "
    }
   },
   "types_to_exclude": [
    "module",
    "function",
    "builtin_function_or_method",
    "instance",
    "_Feature"
   ],
   "window_display": false
  }
 },
 "nbformat": 4,
 "nbformat_minor": 5
}
